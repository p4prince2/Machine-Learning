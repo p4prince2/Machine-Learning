{
 "cells": [
  {
   "cell_type": "markdown",
   "id": "b4164065",
   "metadata": {},
   "source": [
    "# Introduction to Pandas\n",
    "**Pandas** is an open-source Python library used for data manipulation, cleaning, analysis, and visualization.\n",
    "It provides tools to work with structured data like tables from CSV, Excel, SQL, etc.\n",
    "\n",
    "The name *'Pandas'* comes from **'Panel Data'** — a term used in econometrics."
   ]
  },
  {
   "cell_type": "markdown",
   "id": "c24d221d",
   "metadata": {},
   "source": [
    "##  Why Use Pandas?\n",
    "- Load data from files and databases\n",
    "- Clean, filter, sort, and transform data\n",
    "- Handle missing data easily\n",
    "- Perform grouping and aggregation\n",
    "- Analyze time series\n",
    "- Merge or join datasets"
   ]
  },
  {
   "cell_type": "markdown",
   "id": "19950c58",
   "metadata": {},
   "source": [
    "##  Core Data Structures in Pandas"
   ]
  },
  {
   "cell_type": "markdown",
   "id": "f3759878",
   "metadata": {},
   "source": [
    "### 1. `Series` - 1D labeled array"
   ]
  },
  {
   "cell_type": "code",
   "execution_count": 5,
   "id": "9bdc64a6",
   "metadata": {},
   "outputs": [
    {
     "name": "stdout",
     "output_type": "stream",
     "text": [
      "a    10\n",
      "b    20\n",
      "c    30\n",
      "dtype: int64\n"
     ]
    }
   ],
   "source": [
    "import pandas as pd\n",
    "s = pd.Series([10, 20, 30], index=['a', 'b', 'c'])\n",
    "print(s)"
   ]
  },
  {
   "cell_type": "markdown",
   "id": "13223c00",
   "metadata": {},
   "source": [
    "### 2. `DataFrame` - 2D table made of Series"
   ]
  },
  {
   "cell_type": "code",
   "execution_count": 8,
   "id": "69ec941e",
   "metadata": {},
   "outputs": [
    {
     "name": "stdout",
     "output_type": "stream",
     "text": [
      "      Name  Age       City\n",
      "0    Alice   24      Delhi\n",
      "1      Bob   27     Mumbai\n",
      "2  Charlie   22  Bangalore\n"
     ]
    }
   ],
   "source": [
    "data = {\n",
    "    'Name': ['Alice', 'Bob', 'Charlie'],\n",
    "    'Age': [24, 27, 22],\n",
    "    'City': ['Delhi', 'Mumbai', 'Bangalore']\n",
    "}\n",
    "df = pd.DataFrame(data)\n",
    "print(df)"
   ]
  },
  {
   "cell_type": "markdown",
   "id": "34f8ce07",
   "metadata": {},
   "source": [
    "##  Common Operations in Pandas"
   ]
  },
  {
   "cell_type": "code",
   "execution_count": 10,
   "id": "79f08cf7",
   "metadata": {},
   "outputs": [
    {
     "name": "stdout",
     "output_type": "stream",
     "text": [
      "<class 'pandas.core.frame.DataFrame'>\n",
      "RangeIndex: 3 entries, 0 to 2\n",
      "Data columns (total 3 columns):\n",
      " #   Column  Non-Null Count  Dtype \n",
      "---  ------  --------------  ----- \n",
      " 0   Name    3 non-null      object\n",
      " 1   Age     3 non-null      int64 \n",
      " 2   City    3 non-null      object\n",
      "dtypes: int64(1), object(2)\n",
      "memory usage: 204.0+ bytes\n"
     ]
    },
    {
     "data": {
      "text/html": [
       "<div>\n",
       "<style scoped>\n",
       "    .dataframe tbody tr th:only-of-type {\n",
       "        vertical-align: middle;\n",
       "    }\n",
       "\n",
       "    .dataframe tbody tr th {\n",
       "        vertical-align: top;\n",
       "    }\n",
       "\n",
       "    .dataframe thead th {\n",
       "        text-align: right;\n",
       "    }\n",
       "</style>\n",
       "<table border=\"1\" class=\"dataframe\">\n",
       "  <thead>\n",
       "    <tr style=\"text-align: right;\">\n",
       "      <th></th>\n",
       "      <th>Age</th>\n",
       "    </tr>\n",
       "  </thead>\n",
       "  <tbody>\n",
       "    <tr>\n",
       "      <th>count</th>\n",
       "      <td>3.000000</td>\n",
       "    </tr>\n",
       "    <tr>\n",
       "      <th>mean</th>\n",
       "      <td>24.333333</td>\n",
       "    </tr>\n",
       "    <tr>\n",
       "      <th>std</th>\n",
       "      <td>2.516611</td>\n",
       "    </tr>\n",
       "    <tr>\n",
       "      <th>min</th>\n",
       "      <td>22.000000</td>\n",
       "    </tr>\n",
       "    <tr>\n",
       "      <th>25%</th>\n",
       "      <td>23.000000</td>\n",
       "    </tr>\n",
       "    <tr>\n",
       "      <th>50%</th>\n",
       "      <td>24.000000</td>\n",
       "    </tr>\n",
       "    <tr>\n",
       "      <th>75%</th>\n",
       "      <td>25.500000</td>\n",
       "    </tr>\n",
       "    <tr>\n",
       "      <th>max</th>\n",
       "      <td>27.000000</td>\n",
       "    </tr>\n",
       "  </tbody>\n",
       "</table>\n",
       "</div>"
      ],
      "text/plain": [
       "             Age\n",
       "count   3.000000\n",
       "mean   24.333333\n",
       "std     2.516611\n",
       "min    22.000000\n",
       "25%    23.000000\n",
       "50%    24.000000\n",
       "75%    25.500000\n",
       "max    27.000000"
      ]
     },
     "execution_count": 10,
     "metadata": {},
     "output_type": "execute_result"
    }
   ],
   "source": [
    "#  View data\n",
    "df.head()\n",
    "df.tail()\n",
    "df.shape\n",
    "df.info()\n",
    "df.describe()"
   ]
  },
  {
   "cell_type": "code",
   "execution_count": 12,
   "id": "85b4130a",
   "metadata": {},
   "outputs": [
    {
     "data": {
      "text/plain": [
       "Name    Alice\n",
       "Age        24\n",
       "City    Delhi\n",
       "Name: 0, dtype: object"
      ]
     },
     "execution_count": 12,
     "metadata": {},
     "output_type": "execute_result"
    }
   ],
   "source": [
    "# Access data\n",
    "df['Name']\n",
    "df.loc[0]\n",
    "df.iloc[0]"
   ]
  },
  {
   "cell_type": "code",
   "execution_count": 13,
   "id": "381a5059",
   "metadata": {},
   "outputs": [
    {
     "data": {
      "text/html": [
       "<div>\n",
       "<style scoped>\n",
       "    .dataframe tbody tr th:only-of-type {\n",
       "        vertical-align: middle;\n",
       "    }\n",
       "\n",
       "    .dataframe tbody tr th {\n",
       "        vertical-align: top;\n",
       "    }\n",
       "\n",
       "    .dataframe thead th {\n",
       "        text-align: right;\n",
       "    }\n",
       "</style>\n",
       "<table border=\"1\" class=\"dataframe\">\n",
       "  <thead>\n",
       "    <tr style=\"text-align: right;\">\n",
       "      <th></th>\n",
       "      <th>Name</th>\n",
       "      <th>Age</th>\n",
       "      <th>City</th>\n",
       "    </tr>\n",
       "  </thead>\n",
       "  <tbody>\n",
       "    <tr>\n",
       "      <th>1</th>\n",
       "      <td>Bob</td>\n",
       "      <td>27</td>\n",
       "      <td>Mumbai</td>\n",
       "    </tr>\n",
       "  </tbody>\n",
       "</table>\n",
       "</div>"
      ],
      "text/plain": [
       "  Name  Age    City\n",
       "1  Bob   27  Mumbai"
      ]
     },
     "execution_count": 13,
     "metadata": {},
     "output_type": "execute_result"
    }
   ],
   "source": [
    "# Filter data\n",
    "df[df['Age'] > 25]"
   ]
  },
  {
   "cell_type": "code",
   "execution_count": 15,
   "id": "01ae643b",
   "metadata": {},
   "outputs": [
    {
     "data": {
      "text/html": [
       "<div>\n",
       "<style scoped>\n",
       "    .dataframe tbody tr th:only-of-type {\n",
       "        vertical-align: middle;\n",
       "    }\n",
       "\n",
       "    .dataframe tbody tr th {\n",
       "        vertical-align: top;\n",
       "    }\n",
       "\n",
       "    .dataframe thead th {\n",
       "        text-align: right;\n",
       "    }\n",
       "</style>\n",
       "<table border=\"1\" class=\"dataframe\">\n",
       "  <thead>\n",
       "    <tr style=\"text-align: right;\">\n",
       "      <th></th>\n",
       "      <th>Name</th>\n",
       "      <th>Age</th>\n",
       "      <th>City</th>\n",
       "    </tr>\n",
       "  </thead>\n",
       "  <tbody>\n",
       "    <tr>\n",
       "      <th>0</th>\n",
       "      <td>Alice</td>\n",
       "      <td>24</td>\n",
       "      <td>Delhi</td>\n",
       "    </tr>\n",
       "    <tr>\n",
       "      <th>1</th>\n",
       "      <td>Bob</td>\n",
       "      <td>27</td>\n",
       "      <td>Mumbai</td>\n",
       "    </tr>\n",
       "    <tr>\n",
       "      <th>2</th>\n",
       "      <td>Charlie</td>\n",
       "      <td>22</td>\n",
       "      <td>Bangalore</td>\n",
       "    </tr>\n",
       "  </tbody>\n",
       "</table>\n",
       "</div>"
      ],
      "text/plain": [
       "      Name  Age       City\n",
       "0    Alice   24      Delhi\n",
       "1      Bob   27     Mumbai\n",
       "2  Charlie   22  Bangalore"
      ]
     },
     "execution_count": 15,
     "metadata": {},
     "output_type": "execute_result"
    }
   ],
   "source": [
    "# Handle missing data\n",
    "df.dropna()\n",
    "df.fillna(0)"
   ]
  },
  {
   "cell_type": "code",
   "execution_count": 16,
   "id": "d1b5fa1a",
   "metadata": {},
   "outputs": [
    {
     "data": {
      "text/plain": [
       "City\n",
       "Bangalore    22.0\n",
       "Delhi        24.0\n",
       "Mumbai       27.0\n",
       "Name: Age, dtype: float64"
      ]
     },
     "execution_count": 16,
     "metadata": {},
     "output_type": "execute_result"
    }
   ],
   "source": [
    "# Group and aggregate\n",
    "df.groupby('City')['Age'].mean()"
   ]
  },
  {
   "cell_type": "code",
   "execution_count": 32,
   "id": "793a14cf",
   "metadata": {},
   "outputs": [],
   "source": [
    "# Merge DataFrames\n",
    "# pd.merge(df1, df2, on='ID')"
   ]
  },
  {
   "cell_type": "markdown",
   "id": "77d79b0c",
   "metadata": {},
   "source": [
    "##  Pandas with Visualization"
   ]
  },
  {
   "cell_type": "code",
   "execution_count": 21,
   "id": "9a05af60",
   "metadata": {},
   "outputs": [
    {
     "data": {
      "image/png": "[encoded data removed]",
      "text/plain": [
       "<Figure size 640x480 with 1 Axes>"
      ]
     },
     "metadata": {},
     "output_type": "display_data"
    }
   ],
   "source": [
    "import matplotlib.pyplot as plt\n",
    "df['Age'].plot(kind='hist')\n",
    "plt.show()"
   ]
  },
  {
   "cell_type": "markdown",
   "id": "f56e7a3e",
   "metadata": {},
   "source": [
    "##  When to Use Pandas?\n",
    "- You have structured/tabular data\n",
    "- You need to clean or explore datasets\n",
    "- You want to do quick data analysis\n",
    "- You're preparing data for machine learning"
   ]
  },
  {
   "cell_type": "markdown",
   "id": "93098833",
   "metadata": {},
   "source": [
    "##  Summary Table\n",
    "| Feature              | Series                  | DataFrame                |\n",
    "|----------------------|--------------------------|--------------------------|\n",
    "| Dimensions           | 1D                       | 2D                       |\n",
    "| Structure            | Labeled array            | Table of labeled columns |\n",
    "| Indexing             | One axis (rows)          | Two axes (rows + columns)|\n",
    "| Real-world analogy   | Single column in Excel   | Full Excel sheet         |"
   ]
  },
  {
   "cell_type": "code",
   "execution_count": null,
   "id": "ab5b517e-366e-4645-ba82-81cf0c1f1ced",
   "metadata": {},
   "outputs": [],
   "source": []
  },
  {
   "cell_type": "code",
   "execution_count": null,
   "id": "a2f03221-a913-4298-affc-e2a73a1ab818",
   "metadata": {},
   "outputs": [],
   "source": []
  },
  {
   "cell_type": "code",
   "execution_count": null,
   "id": "feca59c6-12bb-43bd-a8d7-3e9f00dcf4f3",
   "metadata": {},
   "outputs": [],
   "source": []
  }
 ],
 "metadata": {
  "kernelspec": {
   "display_name": "Python 3 (ipykernel)",
   "language": "python",
   "name": "python3"
  },
  "language_info": {
   "codemirror_mode": {
    "name": "ipython",
    "version": 3
   },
   "file_extension": ".py",
   "mimetype": "text/x-python",
   "name": "python",
   "nbconvert_exporter": "python",
   "pygments_lexer": "ipython3",
   "version": "3.12.7"
  }
 },
 "nbformat": 4,
 "nbformat_minor": 5
}
